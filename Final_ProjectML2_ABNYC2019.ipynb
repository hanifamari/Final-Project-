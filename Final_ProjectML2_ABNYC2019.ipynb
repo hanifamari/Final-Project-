{
 "cells": [
  {
   "cell_type": "code",
   "execution_count": 1,
   "metadata": {},
   "outputs": [],
   "source": [
    "import numpy as np\n",
    "import pandas as pd\n",
    "import geopandas\n",
    "import matplotlib.pyplot as plt\n",
    "import seaborn as sns\n",
    "import missingno as msno\n",
    "from scipy import stats\n",
    "import statsmodels.api as sm\n",
    "plt.style.use('fivethirtyeight')\n",
    "\n",
    "\n",
    "from sklearn.preprocessing import RobustScaler, MinMaxScaler, MaxAbsScaler, LabelEncoder\n",
    "from sklearn.linear_model import LinearRegression, Lasso, Ridge, ElasticNet\n",
    "from sklearn.model_selection import train_test_split, cross_val_score, GridSearchCV, KFold, StratifiedKFold, RandomizedSearchCV\n",
    "from sklearn.metrics import mean_squared_error, mean_absolute_error, r2_score\n",
    "from sklearn.preprocessing import PolynomialFeatures as PF\n",
    "from sklearn.pipeline import make_pipeline\n",
    "from sklearn.ensemble import RandomForestRegressor\n",
    "\n",
    "def find_outlier(x):\n",
    "    q1 = x.describe()['25%']\n",
    "    q3 = x.describe()['75%']\n",
    "    iqr = abs(q1-q3)\n",
    "    bttm_threshold = q1 - (iqr*1.5)\n",
    "    top_threshold = q3 + (iqr*1.5)\n",
    "    outlier = [i for i in x if i < bttm_threshold or i > top_threshold]\n",
    "    outlier_array = np.array(outlier)\n",
    "    return bttm_threshold, top_threshold, outlier_array\n",
    "\n",
    "\n",
    "def pretty_print_linear(coefs, names = None, sort = False):\n",
    "    if names == None:\n",
    "        names = [\"X%s\" % x for x in range(len(coefs))]\n",
    "    lst = zip(coefs, names)\n",
    "    if sort:\n",
    "        lst = sorted(lst,  key = lambda x:-np.abs(x[0]))\n",
    "    return \" + \".join(\"%s * %s\" % (round(coef, 3), name)\n",
    "                                   for coef, name in lst)"
   ]
  },
  {
   "cell_type": "markdown",
   "metadata": {},
   "source": [
    "Reference https://blog.datadive.net/selecting-good-features-part-ii-linear-models-and-regularization/\n",
    "\n",
    "Linear Model : https://scikit-learn.org/stable/modules/linear_model.html\n",
    "\n",
    "Ridge Regression : https://ncss-wpengine.netdna-ssl.com/wp-content/themes/ncss/pdf/Procedures/NCSS/Ridge_Regression.pdf"
   ]
  },
  {
   "cell_type": "code",
   "execution_count": 2,
   "metadata": {},
   "outputs": [
    {
     "data": {
      "text/html": [
       "<div>\n",
       "<style scoped>\n",
       "    .dataframe tbody tr th:only-of-type {\n",
       "        vertical-align: middle;\n",
       "    }\n",
       "\n",
       "    .dataframe tbody tr th {\n",
       "        vertical-align: top;\n",
       "    }\n",
       "\n",
       "    .dataframe thead th {\n",
       "        text-align: right;\n",
       "    }\n",
       "</style>\n",
       "<table border=\"1\" class=\"dataframe\">\n",
       "  <thead>\n",
       "    <tr style=\"text-align: right;\">\n",
       "      <th></th>\n",
       "      <th>id</th>\n",
       "      <th>name</th>\n",
       "      <th>host_id</th>\n",
       "      <th>host_name</th>\n",
       "      <th>neighbourhood_group</th>\n",
       "      <th>neighbourhood</th>\n",
       "      <th>latitude</th>\n",
       "      <th>longitude</th>\n",
       "      <th>room_type</th>\n",
       "      <th>price</th>\n",
       "      <th>minimum_nights</th>\n",
       "      <th>number_of_reviews</th>\n",
       "      <th>last_review</th>\n",
       "      <th>reviews_per_month</th>\n",
       "      <th>calculated_host_listings_count</th>\n",
       "      <th>availability_365</th>\n",
       "    </tr>\n",
       "  </thead>\n",
       "  <tbody>\n",
       "    <tr>\n",
       "      <th>0</th>\n",
       "      <td>2539</td>\n",
       "      <td>Clean &amp; quiet apt home by the park</td>\n",
       "      <td>2787</td>\n",
       "      <td>John</td>\n",
       "      <td>Brooklyn</td>\n",
       "      <td>Kensington</td>\n",
       "      <td>40.64749</td>\n",
       "      <td>-73.97237</td>\n",
       "      <td>Private room</td>\n",
       "      <td>149</td>\n",
       "      <td>1</td>\n",
       "      <td>9</td>\n",
       "      <td>2018-10-19</td>\n",
       "      <td>0.21</td>\n",
       "      <td>6</td>\n",
       "      <td>365</td>\n",
       "    </tr>\n",
       "    <tr>\n",
       "      <th>1</th>\n",
       "      <td>2595</td>\n",
       "      <td>Skylit Midtown Castle</td>\n",
       "      <td>2845</td>\n",
       "      <td>Jennifer</td>\n",
       "      <td>Manhattan</td>\n",
       "      <td>Midtown</td>\n",
       "      <td>40.75362</td>\n",
       "      <td>-73.98377</td>\n",
       "      <td>Entire home/apt</td>\n",
       "      <td>225</td>\n",
       "      <td>1</td>\n",
       "      <td>45</td>\n",
       "      <td>2019-05-21</td>\n",
       "      <td>0.38</td>\n",
       "      <td>2</td>\n",
       "      <td>355</td>\n",
       "    </tr>\n",
       "    <tr>\n",
       "      <th>2</th>\n",
       "      <td>3647</td>\n",
       "      <td>THE VILLAGE OF HARLEM....NEW YORK !</td>\n",
       "      <td>4632</td>\n",
       "      <td>Elisabeth</td>\n",
       "      <td>Manhattan</td>\n",
       "      <td>Harlem</td>\n",
       "      <td>40.80902</td>\n",
       "      <td>-73.94190</td>\n",
       "      <td>Private room</td>\n",
       "      <td>150</td>\n",
       "      <td>3</td>\n",
       "      <td>0</td>\n",
       "      <td>NaN</td>\n",
       "      <td>NaN</td>\n",
       "      <td>1</td>\n",
       "      <td>365</td>\n",
       "    </tr>\n",
       "    <tr>\n",
       "      <th>3</th>\n",
       "      <td>3831</td>\n",
       "      <td>Cozy Entire Floor of Brownstone</td>\n",
       "      <td>4869</td>\n",
       "      <td>LisaRoxanne</td>\n",
       "      <td>Brooklyn</td>\n",
       "      <td>Clinton Hill</td>\n",
       "      <td>40.68514</td>\n",
       "      <td>-73.95976</td>\n",
       "      <td>Entire home/apt</td>\n",
       "      <td>89</td>\n",
       "      <td>1</td>\n",
       "      <td>270</td>\n",
       "      <td>2019-07-05</td>\n",
       "      <td>4.64</td>\n",
       "      <td>1</td>\n",
       "      <td>194</td>\n",
       "    </tr>\n",
       "    <tr>\n",
       "      <th>4</th>\n",
       "      <td>5022</td>\n",
       "      <td>Entire Apt: Spacious Studio/Loft by central park</td>\n",
       "      <td>7192</td>\n",
       "      <td>Laura</td>\n",
       "      <td>Manhattan</td>\n",
       "      <td>East Harlem</td>\n",
       "      <td>40.79851</td>\n",
       "      <td>-73.94399</td>\n",
       "      <td>Entire home/apt</td>\n",
       "      <td>80</td>\n",
       "      <td>10</td>\n",
       "      <td>9</td>\n",
       "      <td>2018-11-19</td>\n",
       "      <td>0.10</td>\n",
       "      <td>1</td>\n",
       "      <td>0</td>\n",
       "    </tr>\n",
       "  </tbody>\n",
       "</table>\n",
       "</div>"
      ],
      "text/plain": [
       "     id                                              name  host_id  \\\n",
       "0  2539                Clean & quiet apt home by the park     2787   \n",
       "1  2595                             Skylit Midtown Castle     2845   \n",
       "2  3647               THE VILLAGE OF HARLEM....NEW YORK !     4632   \n",
       "3  3831                   Cozy Entire Floor of Brownstone     4869   \n",
       "4  5022  Entire Apt: Spacious Studio/Loft by central park     7192   \n",
       "\n",
       "     host_name neighbourhood_group neighbourhood  latitude  longitude  \\\n",
       "0         John            Brooklyn    Kensington  40.64749  -73.97237   \n",
       "1     Jennifer           Manhattan       Midtown  40.75362  -73.98377   \n",
       "2    Elisabeth           Manhattan        Harlem  40.80902  -73.94190   \n",
       "3  LisaRoxanne            Brooklyn  Clinton Hill  40.68514  -73.95976   \n",
       "4        Laura           Manhattan   East Harlem  40.79851  -73.94399   \n",
       "\n",
       "         room_type  price  minimum_nights  number_of_reviews last_review  \\\n",
       "0     Private room    149               1                  9  2018-10-19   \n",
       "1  Entire home/apt    225               1                 45  2019-05-21   \n",
       "2     Private room    150               3                  0         NaN   \n",
       "3  Entire home/apt     89               1                270  2019-07-05   \n",
       "4  Entire home/apt     80              10                  9  2018-11-19   \n",
       "\n",
       "   reviews_per_month  calculated_host_listings_count  availability_365  \n",
       "0               0.21                               6               365  \n",
       "1               0.38                               2               355  \n",
       "2                NaN                               1               365  \n",
       "3               4.64                               1               194  \n",
       "4               0.10                               1                 0  "
      ]
     },
     "execution_count": 2,
     "metadata": {},
     "output_type": "execute_result"
    }
   ],
   "source": [
    "df = pd.read_csv('AB_NYC_2019.csv')\n",
    "df.head()"
   ]
  },
  {
   "cell_type": "markdown",
   "metadata": {},
   "source": [
    "# Target Distribution (Price)"
   ]
  },
  {
   "cell_type": "markdown",
   "metadata": {},
   "source": [
    "## No Intervention"
   ]
  },
  {
   "cell_type": "code",
   "execution_count": 3,
   "metadata": {},
   "outputs": [
    {
     "data": {
      "image/png": "[encoded data removed]",
      "text/plain": [
       "<Figure size 864x576 with 1 Axes>"
      ]
     },
     "metadata": {},
     "output_type": "display_data"
    }
   ],
   "source": [
    "plt.figure(figsize=(12,8))\n",
    "sns.distplot(df['price']);"
   ]
  },
  {
   "cell_type": "markdown",
   "metadata": {},
   "source": [
    "## Changing into numpy.log1p and removing outlier"
   ]
  },
  {
   "cell_type": "code",
   "execution_count": 4,
   "metadata": {},
   "outputs": [],
   "source": [
    "df1 = df.copy()"
   ]
  },
  {
   "cell_type": "code",
   "execution_count": 5,
   "metadata": {},
   "outputs": [],
   "source": [
    "df1['price'] = np.log1p(df1['price'])"
   ]
  },
  {
   "cell_type": "markdown",
   "metadata": {},
   "source": [
    "**numpy.log1p**\n",
    "\n",
    "Return the natural logarithm of one plus the input array, element-wise.\n",
    "\n",
    "Calculates log(1 + x)."
   ]
  },
  {
   "cell_type": "code",
   "execution_count": 6,
   "metadata": {},
   "outputs": [
    {
     "data": {
      "image/png": "[encoded data removed]",
      "text/plain": [
       "<Figure size 864x576 with 1 Axes>"
      ]
     },
     "metadata": {},
     "output_type": "display_data"
    }
   ],
   "source": [
    "plt.figure(figsize=(12,8))\n",
    "sns.distplot(df1['price']);"
   ]
  },
  {
   "cell_type": "code",
   "execution_count": 7,
   "metadata": {},
   "outputs": [
    {
     "data": {
      "text/plain": [
       "(2.8655121125661713, 6.553467124521339)"
      ]
     },
     "execution_count": 7,
     "metadata": {},
     "output_type": "execute_result"
    }
   ],
   "source": [
    "# Removing Outlier with IQR\n",
    "bttm_threshold, top_threshold, outlier_array = find_outlier(df1['price'])\n",
    "bttm_threshold, top_threshold"
   ]
  },
  {
   "cell_type": "code",
   "execution_count": 8,
   "metadata": {},
   "outputs": [
    {
     "name": "stdout",
     "output_type": "stream",
     "text": [
      "Jumlah outlier = 637 row\n"
     ]
    }
   ],
   "source": [
    "print(\"Jumlah outlier =\",df1[(df1['price'] < bttm_threshold) | (df1['price'] > top_threshold)].shape[0], \"row\")"
   ]
  },
  {
   "cell_type": "code",
   "execution_count": 9,
   "metadata": {},
   "outputs": [],
   "source": [
    "df1 = df1[(df1['price'] >= bttm_threshold) & (df1['price'] <= top_threshold)] # 637 row deleted"
   ]
  },
  {
   "cell_type": "code",
   "execution_count": 10,
   "metadata": {},
   "outputs": [
    {
     "data": {
      "image/png": "[encoded data removed]",
      "text/plain": [
       "<Figure size 864x576 with 1 Axes>"
      ]
     },
     "metadata": {},
     "output_type": "display_data"
    }
   ],
   "source": [
    "plt.figure(figsize=(12,8))\n",
    "sns.distplot(df1['price']);"
   ]
  },
  {
   "cell_type": "markdown",
   "metadata": {},
   "source": [
    "# Determining Predictor"
   ]
  },
  {
   "cell_type": "code",
   "execution_count": 11,
   "metadata": {},
   "outputs": [
    {
     "data": {
      "text/html": [
       "<div>\n",
       "<style scoped>\n",
       "    .dataframe tbody tr th:only-of-type {\n",
       "        vertical-align: middle;\n",
       "    }\n",
       "\n",
       "    .dataframe tbody tr th {\n",
       "        vertical-align: top;\n",
       "    }\n",
       "\n",
       "    .dataframe thead th {\n",
       "        text-align: right;\n",
       "    }\n",
       "</style>\n",
       "<table border=\"1\" class=\"dataframe\">\n",
       "  <thead>\n",
       "    <tr style=\"text-align: right;\">\n",
       "      <th></th>\n",
       "      <th>neighbourhood_group</th>\n",
       "      <th>neighbourhood</th>\n",
       "      <th>latitude</th>\n",
       "      <th>longitude</th>\n",
       "      <th>room_type</th>\n",
       "      <th>price</th>\n",
       "      <th>minimum_nights</th>\n",
       "      <th>number_of_reviews</th>\n",
       "      <th>reviews_per_month</th>\n",
       "      <th>calculated_host_listings_count</th>\n",
       "      <th>availability_365</th>\n",
       "    </tr>\n",
       "  </thead>\n",
       "  <tbody>\n",
       "    <tr>\n",
       "      <th>0</th>\n",
       "      <td>Brooklyn</td>\n",
       "      <td>Kensington</td>\n",
       "      <td>40.64749</td>\n",
       "      <td>-73.97237</td>\n",
       "      <td>Private room</td>\n",
       "      <td>5.010635</td>\n",
       "      <td>1</td>\n",
       "      <td>9</td>\n",
       "      <td>0.21</td>\n",
       "      <td>6</td>\n",
       "      <td>365</td>\n",
       "    </tr>\n",
       "    <tr>\n",
       "      <th>1</th>\n",
       "      <td>Manhattan</td>\n",
       "      <td>Midtown</td>\n",
       "      <td>40.75362</td>\n",
       "      <td>-73.98377</td>\n",
       "      <td>Entire home/apt</td>\n",
       "      <td>5.420535</td>\n",
       "      <td>1</td>\n",
       "      <td>45</td>\n",
       "      <td>0.38</td>\n",
       "      <td>2</td>\n",
       "      <td>355</td>\n",
       "    </tr>\n",
       "    <tr>\n",
       "      <th>2</th>\n",
       "      <td>Manhattan</td>\n",
       "      <td>Harlem</td>\n",
       "      <td>40.80902</td>\n",
       "      <td>-73.94190</td>\n",
       "      <td>Private room</td>\n",
       "      <td>5.017280</td>\n",
       "      <td>3</td>\n",
       "      <td>0</td>\n",
       "      <td>0.00</td>\n",
       "      <td>1</td>\n",
       "      <td>365</td>\n",
       "    </tr>\n",
       "    <tr>\n",
       "      <th>3</th>\n",
       "      <td>Brooklyn</td>\n",
       "      <td>Clinton Hill</td>\n",
       "      <td>40.68514</td>\n",
       "      <td>-73.95976</td>\n",
       "      <td>Entire home/apt</td>\n",
       "      <td>4.499810</td>\n",
       "      <td>1</td>\n",
       "      <td>270</td>\n",
       "      <td>4.64</td>\n",
       "      <td>1</td>\n",
       "      <td>194</td>\n",
       "    </tr>\n",
       "    <tr>\n",
       "      <th>4</th>\n",
       "      <td>Manhattan</td>\n",
       "      <td>East Harlem</td>\n",
       "      <td>40.79851</td>\n",
       "      <td>-73.94399</td>\n",
       "      <td>Entire home/apt</td>\n",
       "      <td>4.394449</td>\n",
       "      <td>10</td>\n",
       "      <td>9</td>\n",
       "      <td>0.10</td>\n",
       "      <td>1</td>\n",
       "      <td>0</td>\n",
       "    </tr>\n",
       "  </tbody>\n",
       "</table>\n",
       "</div>"
      ],
      "text/plain": [
       "  neighbourhood_group neighbourhood  latitude  longitude        room_type  \\\n",
       "0            Brooklyn    Kensington  40.64749  -73.97237     Private room   \n",
       "1           Manhattan       Midtown  40.75362  -73.98377  Entire home/apt   \n",
       "2           Manhattan        Harlem  40.80902  -73.94190     Private room   \n",
       "3            Brooklyn  Clinton Hill  40.68514  -73.95976  Entire home/apt   \n",
       "4           Manhattan   East Harlem  40.79851  -73.94399  Entire home/apt   \n",
       "\n",
       "      price  minimum_nights  number_of_reviews  reviews_per_month  \\\n",
       "0  5.010635               1                  9               0.21   \n",
       "1  5.420535               1                 45               0.38   \n",
       "2  5.017280               3                  0               0.00   \n",
       "3  4.499810               1                270               4.64   \n",
       "4  4.394449              10                  9               0.10   \n",
       "\n",
       "   calculated_host_listings_count  availability_365  \n",
       "0                               6               365  \n",
       "1                               2               355  \n",
       "2                               1               365  \n",
       "3                               1               194  \n",
       "4                               1                 0  "
      ]
     },
     "execution_count": 11,
     "metadata": {},
     "output_type": "execute_result"
    }
   ],
   "source": [
    "df1.drop(columns=['id', 'name', 'host_id', 'host_name', 'last_review'], inplace=True)\n",
    "df1.fillna(0, inplace=True)\n",
    "df1.head()"
   ]
  },
  {
   "cell_type": "markdown",
   "metadata": {},
   "source": [
    "# Encoding Categorical Feature"
   ]
  },
  {
   "cell_type": "markdown",
   "metadata": {},
   "source": [
    "## With LabelEncoder()"
   ]
  },
  {
   "cell_type": "code",
   "execution_count": 12,
   "metadata": {},
   "outputs": [],
   "source": [
    "df1_label_encoded = df1.copy()\n",
    "df1_label_encoded['neighbourhood_group'] = LabelEncoder().fit_transform(df1_label_encoded['neighbourhood_group'])\n",
    "df1_label_encoded['neighbourhood'] = LabelEncoder().fit_transform(df1_label_encoded['neighbourhood'])\n",
    "df1_label_encoded['room_type'] = LabelEncoder().fit_transform(df1_label_encoded['room_type'])"
   ]
  },
  {
   "cell_type": "code",
   "execution_count": 13,
   "metadata": {},
   "outputs": [
    {
     "data": {
      "text/html": [
       "<div>\n",
       "<style scoped>\n",
       "    .dataframe tbody tr th:only-of-type {\n",
       "        vertical-align: middle;\n",
       "    }\n",
       "\n",
       "    .dataframe tbody tr th {\n",
       "        vertical-align: top;\n",
       "    }\n",
       "\n",
       "    .dataframe thead th {\n",
       "        text-align: right;\n",
       "    }\n",
       "</style>\n",
       "<table border=\"1\" class=\"dataframe\">\n",
       "  <thead>\n",
       "    <tr style=\"text-align: right;\">\n",
       "      <th></th>\n",
       "      <th>neighbourhood_group</th>\n",
       "      <th>neighbourhood</th>\n",
       "      <th>latitude</th>\n",
       "      <th>longitude</th>\n",
       "      <th>room_type</th>\n",
       "      <th>price</th>\n",
       "      <th>minimum_nights</th>\n",
       "      <th>number_of_reviews</th>\n",
       "      <th>reviews_per_month</th>\n",
       "      <th>calculated_host_listings_count</th>\n",
       "      <th>availability_365</th>\n",
       "    </tr>\n",
       "  </thead>\n",
       "  <tbody>\n",
       "    <tr>\n",
       "      <th>0</th>\n",
       "      <td>1</td>\n",
       "      <td>107</td>\n",
       "      <td>40.64749</td>\n",
       "      <td>-73.97237</td>\n",
       "      <td>1</td>\n",
       "      <td>5.010635</td>\n",
       "      <td>1</td>\n",
       "      <td>9</td>\n",
       "      <td>0.21</td>\n",
       "      <td>6</td>\n",
       "      <td>365</td>\n",
       "    </tr>\n",
       "    <tr>\n",
       "      <th>1</th>\n",
       "      <td>2</td>\n",
       "      <td>126</td>\n",
       "      <td>40.75362</td>\n",
       "      <td>-73.98377</td>\n",
       "      <td>0</td>\n",
       "      <td>5.420535</td>\n",
       "      <td>1</td>\n",
       "      <td>45</td>\n",
       "      <td>0.38</td>\n",
       "      <td>2</td>\n",
       "      <td>355</td>\n",
       "    </tr>\n",
       "    <tr>\n",
       "      <th>2</th>\n",
       "      <td>2</td>\n",
       "      <td>93</td>\n",
       "      <td>40.80902</td>\n",
       "      <td>-73.94190</td>\n",
       "      <td>1</td>\n",
       "      <td>5.017280</td>\n",
       "      <td>3</td>\n",
       "      <td>0</td>\n",
       "      <td>0.00</td>\n",
       "      <td>1</td>\n",
       "      <td>365</td>\n",
       "    </tr>\n",
       "    <tr>\n",
       "      <th>3</th>\n",
       "      <td>1</td>\n",
       "      <td>41</td>\n",
       "      <td>40.68514</td>\n",
       "      <td>-73.95976</td>\n",
       "      <td>0</td>\n",
       "      <td>4.499810</td>\n",
       "      <td>1</td>\n",
       "      <td>270</td>\n",
       "      <td>4.64</td>\n",
       "      <td>1</td>\n",
       "      <td>194</td>\n",
       "    </tr>\n",
       "    <tr>\n",
       "      <th>4</th>\n",
       "      <td>2</td>\n",
       "      <td>61</td>\n",
       "      <td>40.79851</td>\n",
       "      <td>-73.94399</td>\n",
       "      <td>0</td>\n",
       "      <td>4.394449</td>\n",
       "      <td>10</td>\n",
       "      <td>9</td>\n",
       "      <td>0.10</td>\n",
       "      <td>1</td>\n",
       "      <td>0</td>\n",
       "    </tr>\n",
       "  </tbody>\n",
       "</table>\n",
       "</div>"
      ],
      "text/plain": [
       "   neighbourhood_group  neighbourhood  latitude  longitude  room_type  \\\n",
       "0                    1            107  40.64749  -73.97237          1   \n",
       "1                    2            126  40.75362  -73.98377          0   \n",
       "2                    2             93  40.80902  -73.94190          1   \n",
       "3                    1             41  40.68514  -73.95976          0   \n",
       "4                    2             61  40.79851  -73.94399          0   \n",
       "\n",
       "      price  minimum_nights  number_of_reviews  reviews_per_month  \\\n",
       "0  5.010635               1                  9               0.21   \n",
       "1  5.420535               1                 45               0.38   \n",
       "2  5.017280               3                  0               0.00   \n",
       "3  4.499810               1                270               4.64   \n",
       "4  4.394449              10                  9               0.10   \n",
       "\n",
       "   calculated_host_listings_count  availability_365  \n",
       "0                               6               365  \n",
       "1                               2               355  \n",
       "2                               1               365  \n",
       "3                               1               194  \n",
       "4                               1                 0  "
      ]
     },
     "execution_count": 13,
     "metadata": {},
     "output_type": "execute_result"
    }
   ],
   "source": [
    "df1_label_encoded.head()"
   ]
  },
  {
   "cell_type": "markdown",
   "metadata": {},
   "source": [
    "## With pd.get_dummies()"
   ]
  },
  {
   "cell_type": "code",
   "execution_count": 14,
   "metadata": {},
   "outputs": [
    {
     "data": {
      "text/html": [
       "<div>\n",
       "<style scoped>\n",
       "    .dataframe tbody tr th:only-of-type {\n",
       "        vertical-align: middle;\n",
       "    }\n",
       "\n",
       "    .dataframe tbody tr th {\n",
       "        vertical-align: top;\n",
       "    }\n",
       "\n",
       "    .dataframe thead th {\n",
       "        text-align: right;\n",
       "    }\n",
       "</style>\n",
       "<table border=\"1\" class=\"dataframe\">\n",
       "  <thead>\n",
       "    <tr style=\"text-align: right;\">\n",
       "      <th></th>\n",
       "      <th>latitude</th>\n",
       "      <th>longitude</th>\n",
       "      <th>price</th>\n",
       "      <th>minimum_nights</th>\n",
       "      <th>number_of_reviews</th>\n",
       "      <th>reviews_per_month</th>\n",
       "      <th>calculated_host_listings_count</th>\n",
       "      <th>availability_365</th>\n",
       "      <th>room_type_Entire home/apt</th>\n",
       "      <th>room_type_Private room</th>\n",
       "      <th>...</th>\n",
       "      <th>neighbourhood_Westerleigh</th>\n",
       "      <th>neighbourhood_Whitestone</th>\n",
       "      <th>neighbourhood_Williamsbridge</th>\n",
       "      <th>neighbourhood_Williamsburg</th>\n",
       "      <th>neighbourhood_Willowbrook</th>\n",
       "      <th>neighbourhood_Windsor Terrace</th>\n",
       "      <th>neighbourhood_Woodhaven</th>\n",
       "      <th>neighbourhood_Woodlawn</th>\n",
       "      <th>neighbourhood_Woodrow</th>\n",
       "      <th>neighbourhood_Woodside</th>\n",
       "    </tr>\n",
       "  </thead>\n",
       "  <tbody>\n",
       "    <tr>\n",
       "      <th>0</th>\n",
       "      <td>40.64749</td>\n",
       "      <td>-73.97237</td>\n",
       "      <td>5.010635</td>\n",
       "      <td>1</td>\n",
       "      <td>9</td>\n",
       "      <td>0.21</td>\n",
       "      <td>6</td>\n",
       "      <td>365</td>\n",
       "      <td>0</td>\n",
       "      <td>1</td>\n",
       "      <td>...</td>\n",
       "      <td>0</td>\n",
       "      <td>0</td>\n",
       "      <td>0</td>\n",
       "      <td>0</td>\n",
       "      <td>0</td>\n",
       "      <td>0</td>\n",
       "      <td>0</td>\n",
       "      <td>0</td>\n",
       "      <td>0</td>\n",
       "      <td>0</td>\n",
       "    </tr>\n",
       "    <tr>\n",
       "      <th>1</th>\n",
       "      <td>40.75362</td>\n",
       "      <td>-73.98377</td>\n",
       "      <td>5.420535</td>\n",
       "      <td>1</td>\n",
       "      <td>45</td>\n",
       "      <td>0.38</td>\n",
       "      <td>2</td>\n",
       "      <td>355</td>\n",
       "      <td>1</td>\n",
       "      <td>0</td>\n",
       "      <td>...</td>\n",
       "      <td>0</td>\n",
       "      <td>0</td>\n",
       "      <td>0</td>\n",
       "      <td>0</td>\n",
       "      <td>0</td>\n",
       "      <td>0</td>\n",
       "      <td>0</td>\n",
       "      <td>0</td>\n",
       "      <td>0</td>\n",
       "      <td>0</td>\n",
       "    </tr>\n",
       "    <tr>\n",
       "      <th>2</th>\n",
       "      <td>40.80902</td>\n",
       "      <td>-73.94190</td>\n",
       "      <td>5.017280</td>\n",
       "      <td>3</td>\n",
       "      <td>0</td>\n",
       "      <td>0.00</td>\n",
       "      <td>1</td>\n",
       "      <td>365</td>\n",
       "      <td>0</td>\n",
       "      <td>1</td>\n",
       "      <td>...</td>\n",
       "      <td>0</td>\n",
       "      <td>0</td>\n",
       "      <td>0</td>\n",
       "      <td>0</td>\n",
       "      <td>0</td>\n",
       "      <td>0</td>\n",
       "      <td>0</td>\n",
       "      <td>0</td>\n",
       "      <td>0</td>\n",
       "      <td>0</td>\n",
       "    </tr>\n",
       "    <tr>\n",
       "      <th>3</th>\n",
       "      <td>40.68514</td>\n",
       "      <td>-73.95976</td>\n",
       "      <td>4.499810</td>\n",
       "      <td>1</td>\n",
       "      <td>270</td>\n",
       "      <td>4.64</td>\n",
       "      <td>1</td>\n",
       "      <td>194</td>\n",
       "      <td>1</td>\n",
       "      <td>0</td>\n",
       "      <td>...</td>\n",
       "      <td>0</td>\n",
       "      <td>0</td>\n",
       "      <td>0</td>\n",
       "      <td>0</td>\n",
       "      <td>0</td>\n",
       "      <td>0</td>\n",
       "      <td>0</td>\n",
       "      <td>0</td>\n",
       "      <td>0</td>\n",
       "      <td>0</td>\n",
       "    </tr>\n",
       "    <tr>\n",
       "      <th>4</th>\n",
       "      <td>40.79851</td>\n",
       "      <td>-73.94399</td>\n",
       "      <td>4.394449</td>\n",
       "      <td>10</td>\n",
       "      <td>9</td>\n",
       "      <td>0.10</td>\n",
       "      <td>1</td>\n",
       "      <td>0</td>\n",
       "      <td>1</td>\n",
       "      <td>0</td>\n",
       "      <td>...</td>\n",
       "      <td>0</td>\n",
       "      <td>0</td>\n",
       "      <td>0</td>\n",
       "      <td>0</td>\n",
       "      <td>0</td>\n",
       "      <td>0</td>\n",
       "      <td>0</td>\n",
       "      <td>0</td>\n",
       "      <td>0</td>\n",
       "      <td>0</td>\n",
       "    </tr>\n",
       "  </tbody>\n",
       "</table>\n",
       "<p>5 rows × 236 columns</p>\n",
       "</div>"
      ],
      "text/plain": [
       "   latitude  longitude     price  minimum_nights  number_of_reviews  \\\n",
       "0  40.64749  -73.97237  5.010635               1                  9   \n",
       "1  40.75362  -73.98377  5.420535               1                 45   \n",
       "2  40.80902  -73.94190  5.017280               3                  0   \n",
       "3  40.68514  -73.95976  4.499810               1                270   \n",
       "4  40.79851  -73.94399  4.394449              10                  9   \n",
       "\n",
       "   reviews_per_month  calculated_host_listings_count  availability_365  \\\n",
       "0               0.21                               6               365   \n",
       "1               0.38                               2               355   \n",
       "2               0.00                               1               365   \n",
       "3               4.64                               1               194   \n",
       "4               0.10                               1                 0   \n",
       "\n",
       "   room_type_Entire home/apt  room_type_Private room  ...  \\\n",
       "0                          0                       1  ...   \n",
       "1                          1                       0  ...   \n",
       "2                          0                       1  ...   \n",
       "3                          1                       0  ...   \n",
       "4                          1                       0  ...   \n",
       "\n",
       "   neighbourhood_Westerleigh  neighbourhood_Whitestone  \\\n",
       "0                          0                         0   \n",
       "1                          0                         0   \n",
       "2                          0                         0   \n",
       "3                          0                         0   \n",
       "4                          0                         0   \n",
       "\n",
       "   neighbourhood_Williamsbridge  neighbourhood_Williamsburg  \\\n",
       "0                             0                           0   \n",
       "1                             0                           0   \n",
       "2                             0                           0   \n",
       "3                             0                           0   \n",
       "4                             0                           0   \n",
       "\n",
       "   neighbourhood_Willowbrook  neighbourhood_Windsor Terrace  \\\n",
       "0                          0                              0   \n",
       "1                          0                              0   \n",
       "2                          0                              0   \n",
       "3                          0                              0   \n",
       "4                          0                              0   \n",
       "\n",
       "   neighbourhood_Woodhaven  neighbourhood_Woodlawn  neighbourhood_Woodrow  \\\n",
       "0                        0                       0                      0   \n",
       "1                        0                       0                      0   \n",
       "2                        0                       0                      0   \n",
       "3                        0                       0                      0   \n",
       "4                        0                       0                      0   \n",
       "\n",
       "   neighbourhood_Woodside  \n",
       "0                       0  \n",
       "1                       0  \n",
       "2                       0  \n",
       "3                       0  \n",
       "4                       0  \n",
       "\n",
       "[5 rows x 236 columns]"
      ]
     },
     "execution_count": 14,
     "metadata": {},
     "output_type": "execute_result"
    }
   ],
   "source": [
    "df1_label_dummies = df1.copy()\n",
    "df1_label_dummies = pd.get_dummies(df1_label_dummies, prefix=['room_type'], columns=['room_type'])\n",
    "df1_label_dummies = pd.get_dummies(df1_label_dummies, prefix=['neighbourhood_group'], columns=['neighbourhood_group'])\n",
    "df1_label_dummies = pd.get_dummies(df1_label_dummies, prefix=['neighbourhood'], columns=['neighbourhood'])\n",
    "df1_label_dummies.head()"
   ]
  },
  {
   "cell_type": "markdown",
   "metadata": {},
   "source": [
    "# Splitting and Train Dataset"
   ]
  },
  {
   "cell_type": "markdown",
   "metadata": {},
   "source": [
    "## With label_encoder"
   ]
  },
  {
   "cell_type": "code",
   "execution_count": 15,
   "metadata": {},
   "outputs": [],
   "source": [
    "x = df1_label_encoded.drop(columns=['price'])\n",
    "y = df1_label_encoded['price']\n",
    "\n",
    "x_train, x_test, y_train, y_test = train_test_split(x, y, test_size=0.2, random_state=42)\n",
    "\n",
    "x_train = RobustScaler().fit_transform(x_train)\n",
    "x_test = RobustScaler().fit_transform(x_test)"
   ]
  },
  {
   "cell_type": "markdown",
   "metadata": {},
   "source": [
    "## With label_dummies"
   ]
  },
  {
   "cell_type": "code",
   "execution_count": 16,
   "metadata": {},
   "outputs": [],
   "source": [
    "x1 = df1_label_dummies.drop(columns=['price'])\n",
    "y1 = df1_label_dummies['price']\n",
    "\n",
    "x1_train, x1_test, y1_train, y1_test = train_test_split(x1, y1, test_size=0.2, random_state=42)\n",
    "x1_train = RobustScaler().fit_transform(x1_train)\n",
    "x1_test = RobustScaler().fit_transform(x1_test)"
   ]
  },
  {
   "cell_type": "markdown",
   "metadata": {},
   "source": [
    "# Modelling ML and Evaluation"
   ]
  },
  {
   "cell_type": "markdown",
   "metadata": {},
   "source": [
    "## With label_encoder"
   ]
  },
  {
   "cell_type": "markdown",
   "metadata": {},
   "source": [
    "### No Polynomial"
   ]
  },
  {
   "cell_type": "code",
   "execution_count": 25,
   "metadata": {},
   "outputs": [
    {
     "name": "stdout",
     "output_type": "stream",
     "text": [
      "Model\t = Ridge()\n",
      "RMSE\t = 0.45\n",
      "MAE\t = 0.34\n",
      "R2 Score = 50.35\n",
      "\n",
      "\n",
      "cross_val_score = [0.43340737 0.49583727 0.4727634  0.50207163 0.53376671]\n"
     ]
    }
   ],
   "source": [
    "model = Ridge()\n",
    "model.fit(x_train, y_train)\n",
    "y_pred = model.predict(x_test)\n",
    "y_train_pred = model.predict(x_train)\n",
    "print(f'Model\\t = {model}')\n",
    "print(f'RMSE\\t = {round(np.sqrt(mean_squared_error(y_test, y_pred)), 2)}')\n",
    "print(f'MAE\\t = {round(mean_absolute_error(y_test,y_pred), 2)}')\n",
    "print(f'R2 Score = {round( r2_score(y_test,y_pred) * 100 , 2)}')\n",
    "print('\\n')\n",
    "\n",
    "print('cross_val_score =', cross_val_score(model, x, y, scoring='r2',cv=5))"
   ]
  },
  {
   "cell_type": "code",
   "execution_count": null,
   "metadata": {},
   "outputs": [],
   "source": []
  },
  {
   "cell_type": "markdown",
   "metadata": {},
   "source": [
    "### Polynomial 2"
   ]
  },
  {
   "cell_type": "code",
   "execution_count": 29,
   "metadata": {},
   "outputs": [
    {
     "name": "stdout",
     "output_type": "stream",
     "text": [
      "Model\t = Ridge(alpha=15)\n",
      "RMSE\t = 0.41\n",
      "MAE\t = 0.31\n",
      "R2 Score = 58.02\n",
      "\n",
      "\n",
      "cross_val_score = [0.4509039  0.53220437 0.52590007 0.56091332 0.49611262]\n"
     ]
    }
   ],
   "source": [
    "model = Ridge()\n",
    "poly_reg = make_pipeline(\n",
    "    PF(2, include_bias=False),\n",
    "    model\n",
    ")\n",
    "\n",
    "poly_reg.fit(x_train, y_train)\n",
    "# predict\n",
    "y_pred_poly = poly_reg.predict(x_test)\n",
    "print(f'Model\\t = {model}')\n",
    "print(f'RMSE\\t = {round(np.sqrt(mean_squared_error(y_test, y_pred_poly)), 2)}')\n",
    "print(f'MAE\\t = {round(mean_absolute_error(y_test,y_pred_poly), 2)}')\n",
    "print(f'R2 Score = {round( r2_score(y_test,y_pred_poly) * 100 , 2)}')\n",
    "print('\\n')\n",
    "print('cross_val_score =', cross_val_score(poly_reg, x, y, scoring='r2',cv=5))"
   ]
  },
  {
   "cell_type": "code",
   "execution_count": 27,
   "metadata": {},
   "outputs": [],
   "source": [
    "y_train_pred_poly = poly_reg.predict(x_train)"
   ]
  },
  {
   "cell_type": "code",
   "execution_count": 28,
   "metadata": {},
   "outputs": [
    {
     "data": {
      "text/html": [
       "<div>\n",
       "<style scoped>\n",
       "    .dataframe tbody tr th:only-of-type {\n",
       "        vertical-align: middle;\n",
       "    }\n",
       "\n",
       "    .dataframe tbody tr th {\n",
       "        vertical-align: top;\n",
       "    }\n",
       "\n",
       "    .dataframe thead th {\n",
       "        text-align: right;\n",
       "    }\n",
       "</style>\n",
       "<table border=\"1\" class=\"dataframe\">\n",
       "  <thead>\n",
       "    <tr style=\"text-align: right;\">\n",
       "      <th></th>\n",
       "      <th>CV error</th>\n",
       "      <th>CV std</th>\n",
       "      <th>Training Error</th>\n",
       "      <th>Test Error</th>\n",
       "      <th>Training_R2_Score</th>\n",
       "      <th>Test_R2_Score</th>\n",
       "    </tr>\n",
       "    <tr>\n",
       "      <th>Dataset</th>\n",
       "      <th></th>\n",
       "      <th></th>\n",
       "      <th></th>\n",
       "      <th></th>\n",
       "      <th></th>\n",
       "      <th></th>\n",
       "    </tr>\n",
       "  </thead>\n",
       "  <tbody>\n",
       "    <tr>\n",
       "      <th>label_encoder_tuned_no_poly</th>\n",
       "      <td>-0.453375</td>\n",
       "      <td>0.017111</td>\n",
       "      <td>0.451735</td>\n",
       "      <td>0.448881</td>\n",
       "      <td>0.500328</td>\n",
       "      <td>0.503494</td>\n",
       "    </tr>\n",
       "    <tr>\n",
       "      <th>label_encoder_tuned_poly_2</th>\n",
       "      <td>-0.441061</td>\n",
       "      <td>0.029397</td>\n",
       "      <td>0.414773</td>\n",
       "      <td>0.412736</td>\n",
       "      <td>0.578751</td>\n",
       "      <td>0.580235</td>\n",
       "    </tr>\n",
       "  </tbody>\n",
       "</table>\n",
       "</div>"
      ],
      "text/plain": [
       "                             CV error    CV std  Training Error  Test Error  \\\n",
       "Dataset                                                                       \n",
       "label_encoder_tuned_no_poly -0.453375  0.017111        0.451735    0.448881   \n",
       "label_encoder_tuned_poly_2  -0.441061  0.029397        0.414773    0.412736   \n",
       "\n",
       "                             Training_R2_Score  Test_R2_Score  \n",
       "Dataset                                                        \n",
       "label_encoder_tuned_no_poly           0.500328       0.503494  \n",
       "label_encoder_tuned_poly_2            0.578751       0.580235  "
      ]
     },
     "execution_count": 28,
     "metadata": {},
     "output_type": "execute_result"
    }
   ],
   "source": [
    "pd.DataFrame({'Dataset': ['label_encoder_tuned_no_poly', 'label_encoder_tuned_poly_2'], \n",
    "              'CV error': [ (cross_val_score(model, x, y, scoring='neg_root_mean_squared_error',cv=5).mean()), \n",
    "                           (cross_val_score(poly_reg, x, y, scoring='neg_root_mean_squared_error',cv=5).mean())],\n",
    "              'CV std': [ (cross_val_score(model, x, y, scoring='neg_root_mean_squared_error',cv=5).std()), \n",
    "                         (cross_val_score(poly_reg, x, y, scoring='neg_root_mean_squared_error',cv=5).std())],\n",
    "              'Training Error' : [np.sqrt(mean_squared_error(y_train, y_train_pred)), np.sqrt(mean_squared_error(y_train, y_train_pred_poly))],\n",
    "              'Test Error' : [np.sqrt(mean_squared_error(y_test, y_pred)), np.sqrt(mean_squared_error(y_test, y_pred_poly))],\n",
    "              'Training_R2_Score' : [r2_score(y_train,y_train_pred), r2_score(y_train,y_train_pred_poly)],\n",
    "              'Test_R2_Score' : [r2_score(y_test,y_pred), r2_score(y_test,y_pred_poly)]\n",
    "             }).set_index('Dataset')"
   ]
  },
  {
   "cell_type": "markdown",
   "metadata": {},
   "source": [
    "---"
   ]
  },
  {
   "cell_type": "markdown",
   "metadata": {},
   "source": [
    "## With label_dummies"
   ]
  },
  {
   "cell_type": "code",
   "execution_count": 30,
   "metadata": {},
   "outputs": [
    {
     "name": "stdout",
     "output_type": "stream",
     "text": [
      "Model\t = Ridge()\n",
      "RMSE\t = 0.41\n",
      "MAE\t = 0.31\n",
      "R2 Score = 58.34\n",
      "\n",
      "\n",
      "cross_val_score = [0.51118846 0.56015308 0.5628712  0.59227459 0.6142801 ]\n"
     ]
    }
   ],
   "source": [
    "model1 = Ridge()\n",
    "model1.fit(x1_train, y1_train)\n",
    "y1_pred = model1.predict(x1_test)\n",
    "print(f'Model\\t = {model1}')\n",
    "print(f'RMSE\\t = {round(np.sqrt(mean_squared_error(y1_test, y1_pred)), 2)}')\n",
    "print(f'MAE\\t = {round(mean_absolute_error(y1_test,y1_pred), 2)}')\n",
    "print(f'R2 Score = {round( r2_score(y1_test,y1_pred) * 100 , 2)}')\n",
    "print('\\n')\n",
    "print('cross_val_score =', cross_val_score(model1, x1, y1, scoring='r2',cv=5))"
   ]
  },
  {
   "cell_type": "code",
   "execution_count": 31,
   "metadata": {},
   "outputs": [],
   "source": [
    "y1_train_pred = model1.predict(x1_train)"
   ]
  },
  {
   "cell_type": "markdown",
   "metadata": {},
   "source": [
    "### Tuning Model with label_dummies"
   ]
  },
  {
   "cell_type": "code",
   "execution_count": 32,
   "metadata": {},
   "outputs": [],
   "source": [
    "alpha = np.linspace(3,4,10)\n",
    "\n",
    "param = {'alpha':alpha}\n",
    "\n",
    "model1 = Ridge()\n",
    "model1_tuned = GridSearchCV(estimator=model1, param_grid=param, cv=5)"
   ]
  },
  {
   "cell_type": "code",
   "execution_count": 33,
   "metadata": {},
   "outputs": [
    {
     "name": "stdout",
     "output_type": "stream",
     "text": [
      "{'alpha': 3.0}\n"
     ]
    }
   ],
   "source": [
    "# Jalanin 1x aja\n",
    "model1_tuned.fit(x1_train, y1_train)\n",
    "print(model1_tuned.best_params_)"
   ]
  },
  {
   "cell_type": "code",
   "execution_count": 34,
   "metadata": {},
   "outputs": [
    {
     "name": "stdout",
     "output_type": "stream",
     "text": [
      "Model\t = Ridge(alpha=3)\n",
      "RMSE\t = 0.41\n",
      "MAE\t = 0.31\n",
      "R2 Score = 58.38\n",
      "\n",
      "\n",
      "cross_val_score = [0.51063895 0.55990328 0.56245943 0.59252893 0.61426339]\n"
     ]
    }
   ],
   "source": [
    "model1_tuned_GS = Ridge(alpha=3)\n",
    "model1_tuned_GS.fit(x1_train, y1_train)\n",
    "y1_pred_tuned = model1_tuned_GS.predict(x1_test)\n",
    "print(f'Model\\t = {model1_tuned_GS}')\n",
    "print(f'RMSE\\t = {round(np.sqrt(mean_squared_error(y1_test, y1_pred_tuned)), 2)}')\n",
    "print(f'MAE\\t = {round(mean_absolute_error(y1_test,y1_pred_tuned), 2)}')\n",
    "print(f'R2 Score = {round( r2_score(y1_test,y1_pred_tuned) * 100 , 2)}')\n",
    "print('\\n')\n",
    "print('cross_val_score =', cross_val_score(model1_tuned_GS,x1, y1, scoring='r2', cv=5))"
   ]
  },
  {
   "cell_type": "code",
   "execution_count": 35,
   "metadata": {},
   "outputs": [],
   "source": [
    "y1_train_pred_tuned = model1_tuned_GS.predict(x1_train)"
   ]
  },
  {
   "cell_type": "code",
   "execution_count": 36,
   "metadata": {},
   "outputs": [
    {
     "data": {
      "text/html": [
       "<div>\n",
       "<style scoped>\n",
       "    .dataframe tbody tr th:only-of-type {\n",
       "        vertical-align: middle;\n",
       "    }\n",
       "\n",
       "    .dataframe tbody tr th {\n",
       "        vertical-align: top;\n",
       "    }\n",
       "\n",
       "    .dataframe thead th {\n",
       "        text-align: right;\n",
       "    }\n",
       "</style>\n",
       "<table border=\"1\" class=\"dataframe\">\n",
       "  <thead>\n",
       "    <tr style=\"text-align: right;\">\n",
       "      <th></th>\n",
       "      <th>CV error</th>\n",
       "      <th>CV std</th>\n",
       "      <th>Training Error</th>\n",
       "      <th>Test Error</th>\n",
       "      <th>Training_R2_Score</th>\n",
       "      <th>Test_R2_Score</th>\n",
       "    </tr>\n",
       "    <tr>\n",
       "      <th>Dataset</th>\n",
       "      <th></th>\n",
       "      <th></th>\n",
       "      <th></th>\n",
       "      <th></th>\n",
       "      <th></th>\n",
       "      <th></th>\n",
       "    </tr>\n",
       "  </thead>\n",
       "  <tbody>\n",
       "    <tr>\n",
       "      <th>label_dummies</th>\n",
       "      <td>-0.415808</td>\n",
       "      <td>0.011703</td>\n",
       "      <td>0.410670</td>\n",
       "      <td>0.411157</td>\n",
       "      <td>0.587043</td>\n",
       "      <td>0.583440</td>\n",
       "    </tr>\n",
       "    <tr>\n",
       "      <th>label_dummies_tuned</th>\n",
       "      <td>-0.415891</td>\n",
       "      <td>0.011634</td>\n",
       "      <td>0.410927</td>\n",
       "      <td>0.410983</td>\n",
       "      <td>0.586527</td>\n",
       "      <td>0.583793</td>\n",
       "    </tr>\n",
       "  </tbody>\n",
       "</table>\n",
       "</div>"
      ],
      "text/plain": [
       "                     CV error    CV std  Training Error  Test Error  \\\n",
       "Dataset                                                               \n",
       "label_dummies       -0.415808  0.011703        0.410670    0.411157   \n",
       "label_dummies_tuned -0.415891  0.011634        0.410927    0.410983   \n",
       "\n",
       "                     Training_R2_Score  Test_R2_Score  \n",
       "Dataset                                                \n",
       "label_dummies                 0.587043       0.583440  \n",
       "label_dummies_tuned           0.586527       0.583793  "
      ]
     },
     "execution_count": 36,
     "metadata": {},
     "output_type": "execute_result"
    }
   ],
   "source": [
    "pd.DataFrame({'Dataset': ['label_dummies', 'label_dummies_tuned'], \n",
    "              'CV error': [ (cross_val_score(model1, x1, y1, scoring='neg_root_mean_squared_error',cv=5).mean()), \n",
    "                           (cross_val_score(model1_tuned_GS,x1, y1, scoring='neg_root_mean_squared_error',cv=5).mean())],\n",
    "              'CV std': [ (cross_val_score(model1, x1, y1, scoring='neg_root_mean_squared_error',cv=5).std()), \n",
    "                         (cross_val_score(model1_tuned_GS,x1, y1, scoring='neg_root_mean_squared_error',cv=5).std())],\n",
    "              'Training Error' : [np.sqrt(mean_squared_error(y1_train, y1_train_pred)), np.sqrt(mean_squared_error(y1_train, y1_train_pred_tuned))],\n",
    "              'Test Error' : [np.sqrt(mean_squared_error(y1_test, y1_pred)), np.sqrt(mean_squared_error(y1_test, y1_pred_tuned))],\n",
    "              'Training_R2_Score' : [r2_score(y1_train,y1_train_pred), r2_score(y1_train,y1_train_pred_tuned)],\n",
    "              'Test_R2_Score' : [r2_score(y1_test,y1_pred), r2_score(y1_test,y1_pred_tuned)]\n",
    "             }).set_index('Dataset')"
   ]
  },
  {
   "cell_type": "markdown",
   "metadata": {},
   "source": [
    "---"
   ]
  },
  {
   "cell_type": "markdown",
   "metadata": {},
   "source": [
    "# Try Model using RandomForestRegressor"
   ]
  },
  {
   "cell_type": "markdown",
   "metadata": {},
   "source": [
    "## With LabelEncoder"
   ]
  },
  {
   "cell_type": "code",
   "execution_count": 94,
   "metadata": {},
   "outputs": [],
   "source": [
    "x = df1_label_encoded.drop(columns=['price'])\n",
    "y = df1_label_encoded['price']\n",
    "\n",
    "x_train, x_test, y_train, y_test = train_test_split(x, y, test_size=0.2, random_state=42)\n",
    "\n",
    "x_train = RobustScaler().fit_transform(x_train)\n",
    "x_test = RobustScaler().fit_transform(x_test)"
   ]
  },
  {
   "cell_type": "code",
   "execution_count": 95,
   "metadata": {},
   "outputs": [],
   "source": [
    "rfr = RandomForestRegressor(random_state=42)\n",
    "rfr.fit(x_train, y_train)\n",
    "rfr_train_pred = rfr.predict(x_train)\n",
    "rfr_test_pred = rfr.predict(x_test)"
   ]
  },
  {
   "cell_type": "code",
   "execution_count": 39,
   "metadata": {},
   "outputs": [
    {
     "data": {
      "text/html": [
       "<div>\n",
       "<style scoped>\n",
       "    .dataframe tbody tr th:only-of-type {\n",
       "        vertical-align: middle;\n",
       "    }\n",
       "\n",
       "    .dataframe tbody tr th {\n",
       "        vertical-align: top;\n",
       "    }\n",
       "\n",
       "    .dataframe thead th {\n",
       "        text-align: right;\n",
       "    }\n",
       "</style>\n",
       "<table border=\"1\" class=\"dataframe\">\n",
       "  <thead>\n",
       "    <tr style=\"text-align: right;\">\n",
       "      <th></th>\n",
       "      <th>CV error</th>\n",
       "      <th>CV std</th>\n",
       "      <th>Training Error</th>\n",
       "      <th>Test Error</th>\n",
       "      <th>Training_R2_Score</th>\n",
       "      <th>Test_R2_Score</th>\n",
       "    </tr>\n",
       "    <tr>\n",
       "      <th>Dataset</th>\n",
       "      <th></th>\n",
       "      <th></th>\n",
       "      <th></th>\n",
       "      <th></th>\n",
       "      <th></th>\n",
       "      <th></th>\n",
       "    </tr>\n",
       "  </thead>\n",
       "  <tbody>\n",
       "    <tr>\n",
       "      <th>RandomForestRegressor_labelencoder</th>\n",
       "      <td>-0.401531</td>\n",
       "      <td>0.019577</td>\n",
       "      <td>0.14298</td>\n",
       "      <td>0.379589</td>\n",
       "      <td>0.949942</td>\n",
       "      <td>0.644951</td>\n",
       "    </tr>\n",
       "  </tbody>\n",
       "</table>\n",
       "</div>"
      ],
      "text/plain": [
       "                                    CV error    CV std  Training Error  \\\n",
       "Dataset                                                                  \n",
       "RandomForestRegressor_labelencoder -0.401531  0.019577         0.14298   \n",
       "\n",
       "                                    Test Error  Training_R2_Score  \\\n",
       "Dataset                                                             \n",
       "RandomForestRegressor_labelencoder    0.379589           0.949942   \n",
       "\n",
       "                                    Test_R2_Score  \n",
       "Dataset                                            \n",
       "RandomForestRegressor_labelencoder       0.644951  "
      ]
     },
     "execution_count": 39,
     "metadata": {},
     "output_type": "execute_result"
    }
   ],
   "source": [
    "pd.DataFrame({'Dataset': ['RandomForestRegressor_labelencoder'], \n",
    "              'CV error': [ (cross_val_score(rfr, x, y, scoring='neg_root_mean_squared_error',cv=5).mean())],\n",
    "              'CV std': [ (cross_val_score(rfr, x, y, scoring='neg_root_mean_squared_error',cv=5).std())],\n",
    "              'Training Error' : [np.sqrt(mean_squared_error(y_train, rfr_train_pred))],\n",
    "              'Test Error' : [np.sqrt(mean_squared_error(y_test, rfr_test_pred))],\n",
    "              'Training_R2_Score' : [r2_score(y_train,rfr_train_pred)],\n",
    "              'Test_R2_Score' : [r2_score(y_test,rfr_test_pred)]\n",
    "             }).set_index('Dataset')"
   ]
  },
  {
   "cell_type": "markdown",
   "metadata": {},
   "source": [
    "Overfitting massively!!"
   ]
  },
  {
   "cell_type": "code",
   "execution_count": 40,
   "metadata": {},
   "outputs": [
    {
     "data": {
      "text/plain": [
       "array([-0.39073051, -0.38741049, -0.39606585, -0.39318071, -0.44026873])"
      ]
     },
     "execution_count": 40,
     "metadata": {},
     "output_type": "execute_result"
    }
   ],
   "source": [
    "cross_val_score(rfr, x, y, scoring='neg_root_mean_squared_error',cv=5)"
   ]
  },
  {
   "cell_type": "code",
   "execution_count": 49,
   "metadata": {},
   "outputs": [
    {
     "data": {
      "text/plain": [
       "array([0.54649294, 0.59875582, 0.59783266, 0.63826721, 0.60923299])"
      ]
     },
     "execution_count": 49,
     "metadata": {},
     "output_type": "execute_result"
    }
   ],
   "source": [
    "cross_val_score(rfr, x, y, scoring='r2',cv=5)"
   ]
  },
  {
   "cell_type": "markdown",
   "metadata": {},
   "source": [
    "## Tuning Parameter"
   ]
  },
  {
   "cell_type": "code",
   "execution_count": 42,
   "metadata": {},
   "outputs": [],
   "source": [
    "n_estimators = [int(x) for x in np.linspace(start = 200, stop=2000,num=10)]\n",
    "max_features = ['auto', 'sqrt']\n",
    "max_depth = [int(x) for x in np.linspace(10, 110, num=11)]\n",
    "max_depth.append(None)\n",
    "min_samples_split = [2,5,10]\n",
    "min_samples_leaf = [1, 2, 4]\n",
    "bootstrap = [True, False]\n",
    "\n",
    "param = {'n_estimators': n_estimators,\n",
    "        'max_features': max_features,\n",
    "        'max_depth': max_depth,\n",
    "        'min_samples_split': min_samples_split,\n",
    "        'min_samples_leaf': min_samples_leaf,\n",
    "        'bootstrap': bootstrap}"
   ]
  },
  {
   "cell_type": "code",
   "execution_count": 45,
   "metadata": {},
   "outputs": [],
   "source": [
    "# GridSearch \n",
    "rfr = RandomForestRegressor(random_state=42)\n",
    "tuning_rfr = RandomizedSearchCV(estimator=rfr, param_distributions=param, cv=5)"
   ]
  },
  {
   "cell_type": "code",
   "execution_count": 46,
   "metadata": {},
   "outputs": [
    {
     "name": "stdout",
     "output_type": "stream",
     "text": [
      "{'n_estimators': 1400, 'min_samples_split': 2, 'min_samples_leaf': 4, 'max_features': 'sqrt', 'max_depth': 30, 'bootstrap': True}\n"
     ]
    }
   ],
   "source": [
    "tuning_rfr.fit(x_train, y_train)\n",
    "print(tuning_rfr.best_params_)"
   ]
  },
  {
   "cell_type": "code",
   "execution_count": 47,
   "metadata": {},
   "outputs": [],
   "source": [
    "rfr_tuned = RandomForestRegressor(random_state=42, n_estimators=1400, min_samples_split=2, min_samples_leaf=4, max_features='sqrt', max_depth=30, bootstrap=True)\n",
    "rfr_tuned.fit(x_train, y_train)\n",
    "rfr_tuned_train_pred = rfr_tuned.predict(x_train)\n",
    "rfr_tuned_test_pred = rfr_tuned.predict(x_test)"
   ]
  },
  {
   "cell_type": "code",
   "execution_count": 48,
   "metadata": {},
   "outputs": [
    {
     "data": {
      "text/html": [
       "<div>\n",
       "<style scoped>\n",
       "    .dataframe tbody tr th:only-of-type {\n",
       "        vertical-align: middle;\n",
       "    }\n",
       "\n",
       "    .dataframe tbody tr th {\n",
       "        vertical-align: top;\n",
       "    }\n",
       "\n",
       "    .dataframe thead th {\n",
       "        text-align: right;\n",
       "    }\n",
       "</style>\n",
       "<table border=\"1\" class=\"dataframe\">\n",
       "  <thead>\n",
       "    <tr style=\"text-align: right;\">\n",
       "      <th></th>\n",
       "      <th>CV error</th>\n",
       "      <th>CV std</th>\n",
       "      <th>Training Error</th>\n",
       "      <th>Test Error</th>\n",
       "      <th>Training_R2_Score</th>\n",
       "      <th>Test_R2_Score</th>\n",
       "    </tr>\n",
       "    <tr>\n",
       "      <th>Dataset</th>\n",
       "      <th></th>\n",
       "      <th></th>\n",
       "      <th></th>\n",
       "      <th></th>\n",
       "      <th></th>\n",
       "      <th></th>\n",
       "    </tr>\n",
       "  </thead>\n",
       "  <tbody>\n",
       "    <tr>\n",
       "      <th>RandomForestRegressor_labelencoder_tuned</th>\n",
       "      <td>-0.388706</td>\n",
       "      <td>0.011841</td>\n",
       "      <td>0.277845</td>\n",
       "      <td>0.37315</td>\n",
       "      <td>0.810973</td>\n",
       "      <td>0.656893</td>\n",
       "    </tr>\n",
       "  </tbody>\n",
       "</table>\n",
       "</div>"
      ],
      "text/plain": [
       "                                          CV error    CV std  Training Error  \\\n",
       "Dataset                                                                        \n",
       "RandomForestRegressor_labelencoder_tuned -0.388706  0.011841        0.277845   \n",
       "\n",
       "                                          Test Error  Training_R2_Score  \\\n",
       "Dataset                                                                   \n",
       "RandomForestRegressor_labelencoder_tuned     0.37315           0.810973   \n",
       "\n",
       "                                          Test_R2_Score  \n",
       "Dataset                                                  \n",
       "RandomForestRegressor_labelencoder_tuned       0.656893  "
      ]
     },
     "execution_count": 48,
     "metadata": {},
     "output_type": "execute_result"
    }
   ],
   "source": [
    "pd.DataFrame({'Dataset': ['RandomForestRegressor_labelencoder_tuned'], \n",
    "              'CV error': [ (cross_val_score(rfr_tuned, x, y, scoring='neg_root_mean_squared_error',cv=5).mean())],\n",
    "              'CV std': [ (cross_val_score(rfr_tuned, x, y, scoring='neg_root_mean_squared_error',cv=5).std())],\n",
    "              'Training Error' : [np.sqrt(mean_squared_error(y_train, rfr_tuned_train_pred))],\n",
    "              'Test Error' : [np.sqrt(mean_squared_error(y_test, rfr_tuned_test_pred))],\n",
    "              'Training_R2_Score' : [r2_score(y_train,rfr_tuned_train_pred)],\n",
    "              'Test_R2_Score' : [r2_score(y_test,rfr_tuned_test_pred)]\n",
    "             }).set_index('Dataset')"
   ]
  },
  {
   "cell_type": "code",
   "execution_count": 60,
   "metadata": {},
   "outputs": [
    {
     "data": {
      "text/plain": [
       "array([-0.38051083, -0.37840188, -0.38669051, -0.38644732, -0.41147886])"
      ]
     },
     "execution_count": 60,
     "metadata": {},
     "output_type": "execute_result"
    }
   ],
   "source": [
    "cross_val_score(rfr_tuned, x, y, scoring='neg_root_mean_squared_error',cv=5)"
   ]
  },
  {
   "cell_type": "code",
   "execution_count": 50,
   "metadata": {},
   "outputs": [
    {
     "data": {
      "text/plain": [
       "array([0.56990594, 0.61719945, 0.61664685, 0.65055077, 0.65866778])"
      ]
     },
     "execution_count": 50,
     "metadata": {},
     "output_type": "execute_result"
    }
   ],
   "source": [
    "cross_val_score(rfr_tuned, x, y, scoring='r2',cv=5)"
   ]
  },
  {
   "cell_type": "markdown",
   "metadata": {},
   "source": [
    "---"
   ]
  },
  {
   "cell_type": "markdown",
   "metadata": {},
   "source": [
    "## With label_dummies"
   ]
  },
  {
   "cell_type": "code",
   "execution_count": 52,
   "metadata": {},
   "outputs": [],
   "source": [
    "x1 = df1_label_dummies.drop(columns=['price'])\n",
    "y1 = df1_label_dummies['price']\n",
    "\n",
    "x1_train, x1_test, y1_train, y1_test = train_test_split(x1, y1, test_size=0.2, random_state=42)\n",
    "x1_train = RobustScaler().fit_transform(x1_train)\n",
    "x1_test = RobustScaler().fit_transform(x1_test)"
   ]
  },
  {
   "cell_type": "code",
   "execution_count": 55,
   "metadata": {},
   "outputs": [],
   "source": [
    "rfr2 = RandomForestRegressor(random_state=42)\n",
    "rfr2.fit(x1_train, y1_train)\n",
    "rfr2_train_pred = rfr2.predict(x1_train)\n",
    "rfr2_test_pred = rfr2.predict(x1_test)"
   ]
  },
  {
   "cell_type": "code",
   "execution_count": 57,
   "metadata": {},
   "outputs": [
    {
     "data": {
      "text/html": [
       "<div>\n",
       "<style scoped>\n",
       "    .dataframe tbody tr th:only-of-type {\n",
       "        vertical-align: middle;\n",
       "    }\n",
       "\n",
       "    .dataframe tbody tr th {\n",
       "        vertical-align: top;\n",
       "    }\n",
       "\n",
       "    .dataframe thead th {\n",
       "        text-align: right;\n",
       "    }\n",
       "</style>\n",
       "<table border=\"1\" class=\"dataframe\">\n",
       "  <thead>\n",
       "    <tr style=\"text-align: right;\">\n",
       "      <th></th>\n",
       "      <th>CV error</th>\n",
       "      <th>CV std</th>\n",
       "      <th>Training Error</th>\n",
       "      <th>Test Error</th>\n",
       "      <th>Training_R2_Score</th>\n",
       "      <th>Test_R2_Score</th>\n",
       "    </tr>\n",
       "    <tr>\n",
       "      <th>Dataset</th>\n",
       "      <th></th>\n",
       "      <th></th>\n",
       "      <th></th>\n",
       "      <th></th>\n",
       "      <th></th>\n",
       "      <th></th>\n",
       "    </tr>\n",
       "  </thead>\n",
       "  <tbody>\n",
       "    <tr>\n",
       "      <th>RandomForestRegressor_labeldummies</th>\n",
       "      <td>-0.400783</td>\n",
       "      <td>0.017084</td>\n",
       "      <td>0.14301</td>\n",
       "      <td>0.380181</td>\n",
       "      <td>0.949921</td>\n",
       "      <td>0.643841</td>\n",
       "    </tr>\n",
       "  </tbody>\n",
       "</table>\n",
       "</div>"
      ],
      "text/plain": [
       "                                    CV error    CV std  Training Error  \\\n",
       "Dataset                                                                  \n",
       "RandomForestRegressor_labeldummies -0.400783  0.017084         0.14301   \n",
       "\n",
       "                                    Test Error  Training_R2_Score  \\\n",
       "Dataset                                                             \n",
       "RandomForestRegressor_labeldummies    0.380181           0.949921   \n",
       "\n",
       "                                    Test_R2_Score  \n",
       "Dataset                                            \n",
       "RandomForestRegressor_labeldummies       0.643841  "
      ]
     },
     "execution_count": 57,
     "metadata": {},
     "output_type": "execute_result"
    }
   ],
   "source": [
    "pd.DataFrame({'Dataset': ['RandomForestRegressor_labeldummies'], \n",
    "              'CV error': [ (cross_val_score(rfr2, x1, y1, scoring='neg_root_mean_squared_error',cv=5).mean())],\n",
    "              'CV std': [ (cross_val_score(rfr2, x1, y1, scoring='neg_root_mean_squared_error',cv=5).std())],\n",
    "              'Training Error' : [np.sqrt(mean_squared_error(y1_train, rfr2_train_pred))],\n",
    "              'Test Error' : [np.sqrt(mean_squared_error(y1_test, rfr2_test_pred))],\n",
    "              'Training_R2_Score' : [r2_score(y1_train,rfr2_train_pred)],\n",
    "              'Test_R2_Score' : [r2_score(y1_test,rfr2_test_pred)]\n",
    "             }).set_index('Dataset')"
   ]
  },
  {
   "cell_type": "code",
   "execution_count": 58,
   "metadata": {},
   "outputs": [
    {
     "data": {
      "text/plain": [
       "array([-0.39185335, -0.38990514, -0.39514078, -0.39222977, -0.43478578])"
      ]
     },
     "execution_count": 58,
     "metadata": {},
     "output_type": "execute_result"
    }
   ],
   "source": [
    "cross_val_score(rfr2, x1, y1, scoring='neg_root_mean_squared_error',cv=5)"
   ]
  },
  {
   "cell_type": "code",
   "execution_count": 59,
   "metadata": {},
   "outputs": [
    {
     "data": {
      "text/plain": [
       "array([0.54388271, 0.59357174, 0.5997091 , 0.64001485, 0.61890533])"
      ]
     },
     "execution_count": 59,
     "metadata": {},
     "output_type": "execute_result"
    }
   ],
   "source": [
    "cross_val_score(rfr2, x1, y1, scoring='r2',cv=5)"
   ]
  },
  {
   "cell_type": "markdown",
   "metadata": {},
   "source": [
    "---"
   ]
  },
  {
   "cell_type": "markdown",
   "metadata": {},
   "source": [
    "# Conclusion"
   ]
  },
  {
   "cell_type": "code",
   "execution_count": 96,
   "metadata": {},
   "outputs": [
    {
     "data": {
      "text/html": [
       "<div>\n",
       "<style scoped>\n",
       "    .dataframe tbody tr th:only-of-type {\n",
       "        vertical-align: middle;\n",
       "    }\n",
       "\n",
       "    .dataframe tbody tr th {\n",
       "        vertical-align: top;\n",
       "    }\n",
       "\n",
       "    .dataframe thead th {\n",
       "        text-align: right;\n",
       "    }\n",
       "</style>\n",
       "<table border=\"1\" class=\"dataframe\">\n",
       "  <thead>\n",
       "    <tr style=\"text-align: right;\">\n",
       "      <th></th>\n",
       "      <th>CV error</th>\n",
       "      <th>CV std</th>\n",
       "      <th>Training Error</th>\n",
       "      <th>Test Error</th>\n",
       "      <th>Training_R2_Score</th>\n",
       "      <th>Test_R2_Score</th>\n",
       "    </tr>\n",
       "    <tr>\n",
       "      <th>Dataset</th>\n",
       "      <th></th>\n",
       "      <th></th>\n",
       "      <th></th>\n",
       "      <th></th>\n",
       "      <th></th>\n",
       "      <th></th>\n",
       "    </tr>\n",
       "  </thead>\n",
       "  <tbody>\n",
       "    <tr>\n",
       "      <th>Ridge_label_encoder_tuned_no_poly</th>\n",
       "      <td>-0.454098</td>\n",
       "      <td>0.017323</td>\n",
       "      <td>0.451735</td>\n",
       "      <td>0.448881</td>\n",
       "      <td>0.500328</td>\n",
       "      <td>0.503494</td>\n",
       "    </tr>\n",
       "    <tr>\n",
       "      <th>Ridge_label_encoder_tuned_poly_2</th>\n",
       "      <td>-0.442283</td>\n",
       "      <td>0.029276</td>\n",
       "      <td>0.414773</td>\n",
       "      <td>0.412745</td>\n",
       "      <td>0.578751</td>\n",
       "      <td>0.580215</td>\n",
       "    </tr>\n",
       "    <tr>\n",
       "      <th>Ridge_label_dummies</th>\n",
       "      <td>-0.415808</td>\n",
       "      <td>0.011703</td>\n",
       "      <td>0.410670</td>\n",
       "      <td>0.411157</td>\n",
       "      <td>0.587043</td>\n",
       "      <td>0.583440</td>\n",
       "    </tr>\n",
       "    <tr>\n",
       "      <th>Ridge_label_dummies_tuned</th>\n",
       "      <td>-0.415891</td>\n",
       "      <td>0.011634</td>\n",
       "      <td>0.410927</td>\n",
       "      <td>0.410983</td>\n",
       "      <td>0.586527</td>\n",
       "      <td>0.583793</td>\n",
       "    </tr>\n",
       "    <tr>\n",
       "      <th>RandomForestRegressor_labelencoder</th>\n",
       "      <td>-0.401531</td>\n",
       "      <td>0.019577</td>\n",
       "      <td>0.142980</td>\n",
       "      <td>0.379589</td>\n",
       "      <td>0.949942</td>\n",
       "      <td>0.644951</td>\n",
       "    </tr>\n",
       "    <tr>\n",
       "      <th>RandomForestRegressor_labelencoder_tuned</th>\n",
       "      <td>-0.388706</td>\n",
       "      <td>0.011841</td>\n",
       "      <td>0.277845</td>\n",
       "      <td>0.373150</td>\n",
       "      <td>0.810973</td>\n",
       "      <td>0.656893</td>\n",
       "    </tr>\n",
       "    <tr>\n",
       "      <th>RandomForestRegressor_labeldummies</th>\n",
       "      <td>-0.400783</td>\n",
       "      <td>0.017084</td>\n",
       "      <td>0.143010</td>\n",
       "      <td>0.380181</td>\n",
       "      <td>0.949921</td>\n",
       "      <td>0.643841</td>\n",
       "    </tr>\n",
       "  </tbody>\n",
       "</table>\n",
       "</div>"
      ],
      "text/plain": [
       "                                          CV error    CV std  Training Error  \\\n",
       "Dataset                                                                        \n",
       "Ridge_label_encoder_tuned_no_poly        -0.454098  0.017323        0.451735   \n",
       "Ridge_label_encoder_tuned_poly_2         -0.442283  0.029276        0.414773   \n",
       "Ridge_label_dummies                      -0.415808  0.011703        0.410670   \n",
       "Ridge_label_dummies_tuned                -0.415891  0.011634        0.410927   \n",
       "RandomForestRegressor_labelencoder       -0.401531  0.019577        0.142980   \n",
       "RandomForestRegressor_labelencoder_tuned -0.388706  0.011841        0.277845   \n",
       "RandomForestRegressor_labeldummies       -0.400783  0.017084        0.143010   \n",
       "\n",
       "                                          Test Error  Training_R2_Score  \\\n",
       "Dataset                                                                   \n",
       "Ridge_label_encoder_tuned_no_poly           0.448881           0.500328   \n",
       "Ridge_label_encoder_tuned_poly_2            0.412745           0.578751   \n",
       "Ridge_label_dummies                         0.411157           0.587043   \n",
       "Ridge_label_dummies_tuned                   0.410983           0.586527   \n",
       "RandomForestRegressor_labelencoder          0.379589           0.949942   \n",
       "RandomForestRegressor_labelencoder_tuned    0.373150           0.810973   \n",
       "RandomForestRegressor_labeldummies          0.380181           0.949921   \n",
       "\n",
       "                                          Test_R2_Score  \n",
       "Dataset                                                  \n",
       "Ridge_label_encoder_tuned_no_poly              0.503494  \n",
       "Ridge_label_encoder_tuned_poly_2               0.580215  \n",
       "Ridge_label_dummies                            0.583440  \n",
       "Ridge_label_dummies_tuned                      0.583793  \n",
       "RandomForestRegressor_labelencoder             0.644951  \n",
       "RandomForestRegressor_labelencoder_tuned       0.656893  \n",
       "RandomForestRegressor_labeldummies             0.643841  "
      ]
     },
     "execution_count": 96,
     "metadata": {},
     "output_type": "execute_result"
    }
   ],
   "source": [
    "Result = pd.concat([\n",
    "    pd.DataFrame({'Dataset': ['Ridge_label_encoder_tuned_no_poly', 'Ridge_label_encoder_tuned_poly_2'], \n",
    "              'CV error': [ (cross_val_score(model, x, y, scoring='neg_root_mean_squared_error',cv=5).mean()), \n",
    "                           (cross_val_score(poly_reg, x, y, scoring='neg_root_mean_squared_error',cv=5).mean())],\n",
    "              'CV std': [ (cross_val_score(model, x, y, scoring='neg_root_mean_squared_error',cv=5).std()), \n",
    "                         (cross_val_score(poly_reg, x, y, scoring='neg_root_mean_squared_error',cv=5).std())],\n",
    "              'Training Error' : [np.sqrt(mean_squared_error(y_train, y_train_pred)), np.sqrt(mean_squared_error(y_train, y_train_pred_poly))],\n",
    "              'Test Error' : [np.sqrt(mean_squared_error(y_test, y_pred)), np.sqrt(mean_squared_error(y_test, y_pred_poly))],\n",
    "              'Training_R2_Score' : [r2_score(y_train,y_train_pred), r2_score(y_train,y_train_pred_poly)],\n",
    "              'Test_R2_Score' : [r2_score(y_test,y_pred), r2_score(y_test,y_pred_poly)]\n",
    "             }).set_index('Dataset'),\n",
    "    pd.DataFrame({'Dataset': ['Ridge_label_dummies', 'Ridge_label_dummies_tuned'], \n",
    "              'CV error': [ (cross_val_score(model1, x1, y1, scoring='neg_root_mean_squared_error',cv=5).mean()), \n",
    "                           (cross_val_score(model1_tuned_GS,x1, y1, scoring='neg_root_mean_squared_error',cv=5).mean())],\n",
    "              'CV std': [ (cross_val_score(model1, x1, y1, scoring='neg_root_mean_squared_error',cv=5).std()), \n",
    "                         (cross_val_score(model1_tuned_GS,x1, y1, scoring='neg_root_mean_squared_error',cv=5).std())],\n",
    "              'Training Error' : [np.sqrt(mean_squared_error(y1_train, y1_train_pred)), np.sqrt(mean_squared_error(y1_train, y1_train_pred_tuned))],\n",
    "              'Test Error' : [np.sqrt(mean_squared_error(y1_test, y1_pred)), np.sqrt(mean_squared_error(y1_test, y1_pred_tuned))],\n",
    "              'Training_R2_Score' : [r2_score(y1_train,y1_train_pred), r2_score(y1_train,y1_train_pred_tuned)],\n",
    "              'Test_R2_Score' : [r2_score(y1_test,y1_pred), r2_score(y1_test,y1_pred_tuned)]\n",
    "             }).set_index('Dataset'),\n",
    "    pd.DataFrame({'Dataset': ['RandomForestRegressor_labelencoder'], \n",
    "              'CV error': [ (cross_val_score(rfr, x, y, scoring='neg_root_mean_squared_error',cv=5).mean())],\n",
    "              'CV std': [ (cross_val_score(rfr, x, y, scoring='neg_root_mean_squared_error',cv=5).std())],\n",
    "              'Training Error' : [np.sqrt(mean_squared_error(y_train, rfr_train_pred))],\n",
    "              'Test Error' : [np.sqrt(mean_squared_error(y_test, rfr_test_pred))],\n",
    "              'Training_R2_Score' : [r2_score(y_train,rfr_train_pred)],\n",
    "              'Test_R2_Score' : [r2_score(y_test,rfr_test_pred)]\n",
    "             }).set_index('Dataset'),\n",
    "    pd.DataFrame({'Dataset': ['RandomForestRegressor_labelencoder_tuned'], \n",
    "              'CV error': [ (cross_val_score(rfr_tuned, x, y, scoring='neg_root_mean_squared_error',cv=5).mean())],\n",
    "              'CV std': [ (cross_val_score(rfr_tuned, x, y, scoring='neg_root_mean_squared_error',cv=5).std())],\n",
    "              'Training Error' : [np.sqrt(mean_squared_error(y_train, rfr_tuned_train_pred))],\n",
    "              'Test Error' : [np.sqrt(mean_squared_error(y_test, rfr_tuned_test_pred))],\n",
    "              'Training_R2_Score' : [r2_score(y_train,rfr_tuned_train_pred)],\n",
    "              'Test_R2_Score' : [r2_score(y_test,rfr_tuned_test_pred)]\n",
    "             }).set_index('Dataset'),\n",
    "    pd.DataFrame({'Dataset': ['RandomForestRegressor_labeldummies'], \n",
    "              'CV error': [ (cross_val_score(rfr2, x1, y1, scoring='neg_root_mean_squared_error',cv=5).mean())],\n",
    "              'CV std': [ (cross_val_score(rfr2, x1, y1, scoring='neg_root_mean_squared_error',cv=5).std())],\n",
    "              'Training Error' : [np.sqrt(mean_squared_error(y1_train, rfr2_train_pred))],\n",
    "              'Test Error' : [np.sqrt(mean_squared_error(y1_test, rfr2_test_pred))],\n",
    "              'Training_R2_Score' : [r2_score(y1_train,rfr2_train_pred)],\n",
    "              'Test_R2_Score' : [r2_score(y1_test,rfr2_test_pred)]\n",
    "             }).set_index('Dataset')\n",
    "      \n",
    "], axis=0, ignore_index=False)\n",
    "Result"
   ]
  },
  {
   "cell_type": "markdown",
   "metadata": {},
   "source": [
    "---"
   ]
  },
  {
   "cell_type": "markdown",
   "metadata": {},
   "source": [
    "# Actual Vs Predicted for Ridge Model"
   ]
  },
  {
   "cell_type": "markdown",
   "metadata": {},
   "source": [
    "Here we are using **Ridge_label_dummies_tuned**"
   ]
  },
  {
   "cell_type": "code",
   "execution_count": 75,
   "metadata": {},
   "outputs": [
    {
     "data": {
      "text/html": [
       "<div>\n",
       "<style scoped>\n",
       "    .dataframe tbody tr th:only-of-type {\n",
       "        vertical-align: middle;\n",
       "    }\n",
       "\n",
       "    .dataframe tbody tr th {\n",
       "        vertical-align: top;\n",
       "    }\n",
       "\n",
       "    .dataframe thead th {\n",
       "        text-align: right;\n",
       "    }\n",
       "</style>\n",
       "<table border=\"1\" class=\"dataframe\">\n",
       "  <thead>\n",
       "    <tr style=\"text-align: right;\">\n",
       "      <th></th>\n",
       "      <th>Actual Price</th>\n",
       "      <th>Predicted Price</th>\n",
       "    </tr>\n",
       "  </thead>\n",
       "  <tbody>\n",
       "    <tr>\n",
       "      <th>0</th>\n",
       "      <td>90.0</td>\n",
       "      <td>104.908103</td>\n",
       "    </tr>\n",
       "    <tr>\n",
       "      <th>1</th>\n",
       "      <td>45.0</td>\n",
       "      <td>43.736263</td>\n",
       "    </tr>\n",
       "    <tr>\n",
       "      <th>2</th>\n",
       "      <td>250.0</td>\n",
       "      <td>209.302330</td>\n",
       "    </tr>\n",
       "    <tr>\n",
       "      <th>3</th>\n",
       "      <td>50.0</td>\n",
       "      <td>60.818289</td>\n",
       "    </tr>\n",
       "    <tr>\n",
       "      <th>4</th>\n",
       "      <td>275.0</td>\n",
       "      <td>174.801857</td>\n",
       "    </tr>\n",
       "  </tbody>\n",
       "</table>\n",
       "</div>"
      ],
      "text/plain": [
       "   Actual Price  Predicted Price\n",
       "0          90.0       104.908103\n",
       "1          45.0        43.736263\n",
       "2         250.0       209.302330\n",
       "3          50.0        60.818289\n",
       "4         275.0       174.801857"
      ]
     },
     "execution_count": 75,
     "metadata": {},
     "output_type": "execute_result"
    }
   ],
   "source": [
    "ridge_error_airbnb = pd.DataFrame({'Actual Price' : np.expm1(np.array(y1_test).flatten()),\n",
    "                                  'Predicted Price' : np.expm1(np.array(y1_pred_tuned).flatten())}).head(50)\n",
    "ridge_error_airbnb.head()"
   ]
  },
  {
   "cell_type": "code",
   "execution_count": 76,
   "metadata": {},
   "outputs": [
    {
     "data": {
      "image/png": "[encoded data removed]",
      "text/plain": [
       "<Figure size 1152x576 with 1 Axes>"
      ]
     },
     "metadata": {},
     "output_type": "display_data"
    }
   ],
   "source": [
    "ridge_error_airbnb.plot(kind='bar', figsize=(16, 8))\n",
    "plt.title('Difference between Actual Price vs Predicted Price')\n",
    "plt.show()"
   ]
  },
  {
   "cell_type": "code",
   "execution_count": 81,
   "metadata": {},
   "outputs": [
    {
     "data": {
      "image/png": "[encoded data removed]",
      "text/plain": [
       "<Figure size 1008x432 with 1 Axes>"
      ]
     },
     "metadata": {},
     "output_type": "display_data"
    }
   ],
   "source": [
    "plt.figure(figsize=(14,6))\n",
    "sns.regplot('Predicted Price','Actual Price', data=ridge_error_airbnb)\n",
    "plt.xlabel('Predictions')\n",
    "plt.ylabel('Actual')\n",
    "plt.title(\"Ridge Model Predictions\")\n",
    "plt.grid(True)\n",
    "plt.show()"
   ]
  },
  {
   "cell_type": "markdown",
   "metadata": {},
   "source": [
    "---"
   ]
  },
  {
   "cell_type": "markdown",
   "metadata": {},
   "source": [
    "# Actual Vs Predicted for RandomForest Model"
   ]
  },
  {
   "cell_type": "markdown",
   "metadata": {},
   "source": [
    "Here we are using **RandomForestRegressor_labelencoder_tuned**"
   ]
  },
  {
   "cell_type": "code",
   "execution_count": 85,
   "metadata": {},
   "outputs": [
    {
     "data": {
      "text/html": [
       "<div>\n",
       "<style scoped>\n",
       "    .dataframe tbody tr th:only-of-type {\n",
       "        vertical-align: middle;\n",
       "    }\n",
       "\n",
       "    .dataframe tbody tr th {\n",
       "        vertical-align: top;\n",
       "    }\n",
       "\n",
       "    .dataframe thead th {\n",
       "        text-align: right;\n",
       "    }\n",
       "</style>\n",
       "<table border=\"1\" class=\"dataframe\">\n",
       "  <thead>\n",
       "    <tr style=\"text-align: right;\">\n",
       "      <th></th>\n",
       "      <th>Actual Price</th>\n",
       "      <th>Predicted Price</th>\n",
       "    </tr>\n",
       "  </thead>\n",
       "  <tbody>\n",
       "    <tr>\n",
       "      <th>0</th>\n",
       "      <td>90.0</td>\n",
       "      <td>86.947438</td>\n",
       "    </tr>\n",
       "    <tr>\n",
       "      <th>1</th>\n",
       "      <td>45.0</td>\n",
       "      <td>51.513842</td>\n",
       "    </tr>\n",
       "    <tr>\n",
       "      <th>2</th>\n",
       "      <td>250.0</td>\n",
       "      <td>213.102838</td>\n",
       "    </tr>\n",
       "    <tr>\n",
       "      <th>3</th>\n",
       "      <td>50.0</td>\n",
       "      <td>69.463738</td>\n",
       "    </tr>\n",
       "    <tr>\n",
       "      <th>4</th>\n",
       "      <td>275.0</td>\n",
       "      <td>175.004602</td>\n",
       "    </tr>\n",
       "  </tbody>\n",
       "</table>\n",
       "</div>"
      ],
      "text/plain": [
       "   Actual Price  Predicted Price\n",
       "0          90.0        86.947438\n",
       "1          45.0        51.513842\n",
       "2         250.0       213.102838\n",
       "3          50.0        69.463738\n",
       "4         275.0       175.004602"
      ]
     },
     "execution_count": 85,
     "metadata": {},
     "output_type": "execute_result"
    }
   ],
   "source": [
    "rf_error_airbnb = pd.DataFrame({'Actual Price' : np.expm1(np.array(y_test).flatten()),\n",
    "                                  'Predicted Price' : np.expm1(np.array(rfr_tuned_test_pred).flatten())}).head(50)\n",
    "rf_error_airbnb.head()"
   ]
  },
  {
   "cell_type": "code",
   "execution_count": 83,
   "metadata": {},
   "outputs": [
    {
     "data": {
      "image/png": "[encoded data removed]",
      "text/plain": [
       "<Figure size 1152x576 with 1 Axes>"
      ]
     },
     "metadata": {},
     "output_type": "display_data"
    }
   ],
   "source": [
    "rf_error_airbnb.plot(kind='bar', figsize=(16, 8))\n",
    "plt.title('Difference between Actual Price vs Predicted Price')\n",
    "plt.show()"
   ]
  },
  {
   "cell_type": "markdown",
   "metadata": {},
   "source": [
    "---"
   ]
  },
  {
   "cell_type": "markdown",
   "metadata": {},
   "source": [
    "# Cobain tanpa robustscaler"
   ]
  },
  {
   "cell_type": "code",
   "execution_count": 89,
   "metadata": {},
   "outputs": [],
   "source": [
    "x = df1_label_encoded.drop(columns=['price'])\n",
    "y = df1_label_encoded['price']\n",
    "\n",
    "x_train, x_test, y_train, y_test = train_test_split(x, y, test_size=0.2, random_state=42)"
   ]
  },
  {
   "cell_type": "code",
   "execution_count": 90,
   "metadata": {},
   "outputs": [],
   "source": [
    "rfr = RandomForestRegressor(random_state=42)\n",
    "rfr.fit(x_train, y_train)\n",
    "rfr_train_pred = rfr.predict(x_train)\n",
    "rfr_test_pred = rfr.predict(x_test)"
   ]
  },
  {
   "cell_type": "code",
   "execution_count": 91,
   "metadata": {},
   "outputs": [
    {
     "data": {
      "text/html": [
       "<div>\n",
       "<style scoped>\n",
       "    .dataframe tbody tr th:only-of-type {\n",
       "        vertical-align: middle;\n",
       "    }\n",
       "\n",
       "    .dataframe tbody tr th {\n",
       "        vertical-align: top;\n",
       "    }\n",
       "\n",
       "    .dataframe thead th {\n",
       "        text-align: right;\n",
       "    }\n",
       "</style>\n",
       "<table border=\"1\" class=\"dataframe\">\n",
       "  <thead>\n",
       "    <tr style=\"text-align: right;\">\n",
       "      <th></th>\n",
       "      <th>CV error</th>\n",
       "      <th>CV std</th>\n",
       "      <th>Training Error</th>\n",
       "      <th>Test Error</th>\n",
       "      <th>Training_R2_Score</th>\n",
       "      <th>Test_R2_Score</th>\n",
       "    </tr>\n",
       "    <tr>\n",
       "      <th>Dataset</th>\n",
       "      <th></th>\n",
       "      <th></th>\n",
       "      <th></th>\n",
       "      <th></th>\n",
       "      <th></th>\n",
       "      <th></th>\n",
       "    </tr>\n",
       "  </thead>\n",
       "  <tbody>\n",
       "    <tr>\n",
       "      <th>RandomForestRegressor_labelencoder</th>\n",
       "      <td>-0.401531</td>\n",
       "      <td>0.019577</td>\n",
       "      <td>0.142978</td>\n",
       "      <td>0.375053</td>\n",
       "      <td>0.949944</td>\n",
       "      <td>0.653385</td>\n",
       "    </tr>\n",
       "  </tbody>\n",
       "</table>\n",
       "</div>"
      ],
      "text/plain": [
       "                                    CV error    CV std  Training Error  \\\n",
       "Dataset                                                                  \n",
       "RandomForestRegressor_labelencoder -0.401531  0.019577        0.142978   \n",
       "\n",
       "                                    Test Error  Training_R2_Score  \\\n",
       "Dataset                                                             \n",
       "RandomForestRegressor_labelencoder    0.375053           0.949944   \n",
       "\n",
       "                                    Test_R2_Score  \n",
       "Dataset                                            \n",
       "RandomForestRegressor_labelencoder       0.653385  "
      ]
     },
     "execution_count": 91,
     "metadata": {},
     "output_type": "execute_result"
    }
   ],
   "source": [
    "pd.DataFrame({'Dataset': ['RandomForestRegressor_labelencoder'], \n",
    "              'CV error': [ (cross_val_score(rfr, x, y, scoring='neg_root_mean_squared_error',cv=5).mean())],\n",
    "              'CV std': [ (cross_val_score(rfr, x, y, scoring='neg_root_mean_squared_error',cv=5).std())],\n",
    "              'Training Error' : [np.sqrt(mean_squared_error(y_train, rfr_train_pred))],\n",
    "              'Test Error' : [np.sqrt(mean_squared_error(y_test, rfr_test_pred))],\n",
    "              'Training_R2_Score' : [r2_score(y_train,rfr_train_pred)],\n",
    "              'Test_R2_Score' : [r2_score(y_test,rfr_test_pred)]\n",
    "             }).set_index('Dataset')"
   ]
  },
  {
   "cell_type": "code",
   "execution_count": null,
   "metadata": {},
   "outputs": [],
   "source": []
  }
 ],
 "metadata": {
  "kernelspec": {
   "display_name": "Python 3",
   "language": "python",
   "name": "python3"
  },
  "language_info": {
   "codemirror_mode": {
    "name": "ipython",
    "version": 3
   },
   "file_extension": ".py",
   "mimetype": "text/x-python",
   "name": "python",
   "nbconvert_exporter": "python",
   "pygments_lexer": "ipython3",
   "version": "3.8.3"
  },
  "toc-autonumbering": true,
  "toc-showcode": false,
  "toc-showmarkdowntxt": false
 },
 "nbformat": 4,
 "nbformat_minor": 4
}
